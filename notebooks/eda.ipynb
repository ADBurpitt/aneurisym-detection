{
 "cells": [
  {
   "cell_type": "code",
   "execution_count": 17,
   "id": "c3a24682",
   "metadata": {},
   "outputs": [],
   "source": [
    "import sys\n",
    "from pathlib import Path\n",
    "from glob import glob\n",
    "from importlib import reload\n",
    "\n",
    "from pydicom import dcmread\n",
    "import matplotlib.pyplot as plt\n",
    "import numpy as np\n",
    "\n",
    "# Add repo root to Python path\n",
    "sys.path.append(str(Path().resolve().parent))"
   ]
  },
  {
   "cell_type": "code",
   "execution_count": 18,
   "id": "062af6c7",
   "metadata": {},
   "outputs": [],
   "source": [
    "from src.config import SERIES_DIR, TRAIN_CSV\n",
    "from src import dataloader as dl\n",
    "from src import partition as pt"
   ]
  },
  {
   "cell_type": "code",
   "execution_count": 22,
   "id": "e997d507",
   "metadata": {},
   "outputs": [
    {
     "data": {
      "text/plain": [
       "<module 'src.partition' from '/home/aaron/aneurisym-detection/src/partition.py'>"
      ]
     },
     "execution_count": 22,
     "metadata": {},
     "output_type": "execute_result"
    }
   ],
   "source": [
    "reload(dl)\n",
    "reload(pt)"
   ]
  },
  {
   "cell_type": "code",
   "execution_count": 23,
   "id": "d1d64500",
   "metadata": {},
   "outputs": [
    {
     "name": "stdout",
     "output_type": "stream",
     "text": [
      "thin: (1, 1, 96, 192, 192) [tensor([1.], dtype=torch.float64), tensor([1.], dtype=torch.float64), tensor([1.], dtype=torch.float64)]\n",
      "thick: (1, 1, 16, 192, 192) [tensor([18.], dtype=torch.float64), tensor([1.], dtype=torch.float64), tensor([1.], dtype=torch.float64)]\n",
      "[('1.2.826.0.1.3680043.8.498.10004044428023505108375152878107656647', 18.0), ('1.2.826.0.1.3680043.8.498.10004684224894397679901841656954650085', 0.7), ('1.2.826.0.1.3680043.8.498.10005158603912009425635473100344077317', 0.6), ('1.2.826.0.1.3680043.8.498.10009383108068795488741533244914370182', 0.75), ('1.2.826.0.1.3680043.8.498.10012790035410518400400834395242853657', 0.55)]\n"
     ]
    }
   ],
   "source": [
    "labels = dl.build_labels_map_from_csv(TRAIN_CSV)\n",
    "\n",
    "dl_thin, dl_thick, ds_thin, ds_thick = pt.make_loaders(\n",
    "    SERIES_DIR,\n",
    "    labels_map=labels,\n",
    "    z_thresh_mm=1.5,               # thin vs thick cutoff\n",
    "    thin_out=(1.0,1.0,1.0),        # isotropic for thin stacks\n",
    "    thick_xy=1.0,                  # keep Z native for thick stacks\n",
    "    thin_patch=(96,192,192),\n",
    "    thick_patch=(16,192,192),\n",
    "    batch_size_thin=1,\n",
    "    batch_size_thick=1,\n",
    "    num_workers=0,\n",
    "    shuffle=True,\n",
    ")\n",
    "\n",
    "# 2) Quick sanity\n",
    "b_thin  = next(iter(dl_thin))\n",
    "b_thick = next(iter(dl_thick))\n",
    "print(\"thin:\",  tuple(b_thin[\"volume\"].shape),  b_thin[\"spacing\"])\n",
    "print(\"thick:\", tuple(b_thick[\"volume\"].shape), b_thick[\"spacing\"])\n",
    "\n",
    "# Optional: overview of z-spacings\n",
    "print(pt.scan_spacing_stats(SERIES_DIR)[:5])"
   ]
  },
  {
   "cell_type": "code",
   "execution_count": null,
   "id": "53c5863f",
   "metadata": {},
   "outputs": [],
   "source": []
  }
 ],
 "metadata": {
  "kernelspec": {
   "display_name": "aneurisym-detection",
   "language": "python",
   "name": "python3"
  },
  "language_info": {
   "codemirror_mode": {
    "name": "ipython",
    "version": 3
   },
   "file_extension": ".py",
   "mimetype": "text/x-python",
   "name": "python",
   "nbconvert_exporter": "python",
   "pygments_lexer": "ipython3",
   "version": "3.12.8"
  }
 },
 "nbformat": 4,
 "nbformat_minor": 5
}
